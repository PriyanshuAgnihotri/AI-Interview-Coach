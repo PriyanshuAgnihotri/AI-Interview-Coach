{
 "cells": [
  {
   "cell_type": "markdown",
   "id": "785bb326",
   "metadata": {},
   "source": [
    "# AI Interview Coach — Jupyter Notebook\n",
    "This notebook explains the code and lets you run small parts interactively."
   ]
  },
  {
   "cell_type": "markdown",
   "id": "f88ec3e3",
   "metadata": {},
   "source": [
    "## 1. Introduction\n",
    "The AI Interview Coach app is built with Streamlit and OpenAI's API. It asks questions, evaluates answers, and gives feedback.\n",
    "\n",
    "Files in the project:\n",
    "- `app.py` — Streamlit UI.\n",
    "- `prompts.py` — System prompt.\n",
    "- `code_runner.py` — Stores constants.\n",
    "- `requirements.txt` — Dependencies.\n",
    "- `.env.example` — Example API key file."
   ]
  },
  {
   "cell_type": "markdown",
   "id": "fcb164a7",
   "metadata": {},
   "source": [
    "## 2. How to Run\n",
    "1. Install dependencies from `requirements.txt`.\n",
    "2. Set your `OPENAI_API_KEY` in `.env` or as an environment variable.\n",
    "3. Run `streamlit run app.py` in your terminal."
   ]
  },
  {
   "cell_type": "code",
   "execution_count": null,
   "id": "b263c4e9",
   "metadata": {},
   "outputs": [],
   "source": [
    "# Check current directory and files\n",
    "import os\n",
    "os.listdir('.')"
   ]
  },
  {
   "cell_type": "code",
   "execution_count": null,
   "id": "c029343b",
   "metadata": {},
   "outputs": [],
   "source": [
    "# Example mock chat without API key\n",
    "chat = [\n",
    "    {\"role\":\"system\",\"content\":\"You are an interview coach.\"},\n",
    "    {\"role\":\"user\",\"content\":\"Give me a question for a Data Analyst role.\"}\n",
    "]\n",
    "print('MOCK QUESTION: Describe a time you used data to solve a business problem.')"
   ]
  },
  {
   "cell_type": "markdown",
   "id": "3067c0b6",
   "metadata": {},
   "source": [
    "## 3. Next Steps\n",
    "- Integrate Whisper for voice input.\n",
    "- Integrate ElevenLabs or Azure TTS for voice output.\n",
    "- Add persistent session saving (database or JSON).\n"
   ]
  }
 ],
 "metadata": {},
 "nbformat": 4,
 "nbformat_minor": 5
}
